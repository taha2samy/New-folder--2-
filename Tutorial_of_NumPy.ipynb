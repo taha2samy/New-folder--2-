{
  "nbformat": 4,
  "nbformat_minor": 0,
  "metadata": {
    "colab": {
      "provenance": [],
      "collapsed_sections": [
        "LkGTkymG1Rjg"
      ],
      "authorship_tag": "ABX9TyM7KalHDxuI1vFENvioBy8p",
      "include_colab_link": true
    },
    "kernelspec": {
      "name": "python3",
      "display_name": "Python 3"
    },
    "language_info": {
      "name": "python"
    }
  },
  "cells": [
    {
      "cell_type": "markdown",
      "metadata": {
        "id": "view-in-github",
        "colab_type": "text"
      },
      "source": [
        "<a href=\"https://colab.research.google.com/github/taha2samy/principles-of-statistics/blob/master/Tutorial_of_NumPy.ipynb\" target=\"_parent\"><img src=\"https://colab.research.google.com/assets/colab-badge.svg\" alt=\"Open In Colab\"/></a>"
      ]
    },
    {
      "cell_type": "markdown",
      "source": [
        "# **Tutorial of NumPy**\n",
        "\n",
        "![numpylogo.svg](data:image/svg+xml;base64,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)"
      ],
      "metadata": {
        "id": "vdDXT33Az0to"
      }
    },
    {
      "cell_type": "markdown",
      "source": [
        "<svg src = 'https://numpy.org/doc/stable/_static/numpylogo.svg'><svg>"
      ],
      "metadata": {
        "id": "GOJ290h2zfMr"
      }
    },
    {
      "cell_type": "markdown",
      "source": [
        "## Upgrade NumPy"
      ],
      "metadata": {
        "id": "LkGTkymG1Rjg"
      }
    },
    {
      "cell_type": "code",
      "execution_count": 1,
      "metadata": {
        "colab": {
          "base_uri": "https://localhost:8080/"
        },
        "id": "4uDHUMoyyHD-",
        "outputId": "65e246b9-de1d-497d-f007-a2530a40e420"
      },
      "outputs": [
        {
          "output_type": "stream",
          "name": "stdout",
          "text": [
            "Requirement already satisfied: numpy in /usr/local/lib/python3.10/dist-packages (1.25.2)\n",
            "Collecting numpy\n",
            "  Downloading numpy-1.26.4-cp310-cp310-manylinux_2_17_x86_64.manylinux2014_x86_64.whl (18.2 MB)\n",
            "\u001b[2K     \u001b[90m━━━━━━━━━━━━━━━━━━━━━━━━━━━━━━━━━━━━━━━━\u001b[0m \u001b[32m18.2/18.2 MB\u001b[0m \u001b[31m38.4 MB/s\u001b[0m eta \u001b[36m0:00:00\u001b[0m\n",
            "\u001b[?25hInstalling collected packages: numpy\n",
            "  Attempting uninstall: numpy\n",
            "    Found existing installation: numpy 1.25.2\n",
            "    Uninstalling numpy-1.25.2:\n",
            "      Successfully uninstalled numpy-1.25.2\n",
            "\u001b[31mERROR: pip's dependency resolver does not currently take into account all the packages that are installed. This behaviour is the source of the following dependency conflicts.\n",
            "lida 0.0.10 requires fastapi, which is not installed.\n",
            "lida 0.0.10 requires kaleido, which is not installed.\n",
            "lida 0.0.10 requires python-multipart, which is not installed.\n",
            "lida 0.0.10 requires uvicorn, which is not installed.\u001b[0m\u001b[31m\n",
            "\u001b[0mSuccessfully installed numpy-1.26.4\n"
          ]
        }
      ],
      "source": [
        "!pip install --upgrade numpy"
      ]
    },
    {
      "cell_type": "markdown",
      "source": [
        "## Import NumPy"
      ],
      "metadata": {
        "id": "5RlARz6V1egB"
      }
    },
    {
      "cell_type": "code",
      "source": [
        "import numpy as np"
      ],
      "metadata": {
        "id": "v4VDz0Mpyrm4"
      },
      "execution_count": 2,
      "outputs": []
    },
    {
      "cell_type": "markdown",
      "source": [
        "# Create NumPy Array\n",
        "\n",
        "\n"
      ],
      "metadata": {
        "id": "IVQF7OfDreXB"
      }
    },
    {
      "cell_type": "code",
      "source": [
        "newList= [1,2,3,4,5,6,7]\n",
        "array_1dim = np.array(newList,dtype=np.dtypes.Int64DType)\n",
        "array_2dim= np.array([[1,2,3],[4,5,6],[7,8,9]])\n",
        "array_3dim=np.array([[[1,2,3],[4,5,6],[7,8,9]],[[1,2,3],[4,5,6],[7,8,9]]])\n",
        "print(array_1dim,'\\n',array_1dim,'\\n',array_3dim)"
      ],
      "metadata": {
        "colab": {
          "base_uri": "https://localhost:8080/"
        },
        "id": "w_jq3BWZytW5",
        "outputId": "21a4009b-3417-46e0-f79f-76bb04a293cc"
      },
      "execution_count": 3,
      "outputs": [
        {
          "output_type": "stream",
          "name": "stdout",
          "text": [
            "[1 2 3 4 5 6 7] \n",
            " [1 2 3 4 5 6 7] \n",
            " [[[1 2 3]\n",
            "  [4 5 6]\n",
            "  [7 8 9]]\n",
            "\n",
            " [[1 2 3]\n",
            "  [4 5 6]\n",
            "  [7 8 9]]]\n"
          ]
        }
      ]
    },
    {
      "cell_type": "markdown",
      "source": [],
      "metadata": {
        "id": "JlNiqPyNrdo1"
      }
    },
    {
      "cell_type": "markdown",
      "source": [
        "## What’s the difference between a Python list and a NumPy array?\n",
        "\n",
        "NumPy gives you an enormous range of fast and efficient ways of creating arrays and manipulating numerical data inside them. While a Python list can contain different data types within a single list, all of the elements in a NumPy array should be homogeneous. The mathematical operations that are meant to be performed on arrays would be extremely inefficient if the arrays weren’t homogeneous.\n",
        "\n",
        "## Why use NumPy?\n",
        "\n",
        "NumPy arrays are faster and more compact than Python lists. An array consumes less memory and is convenient to use. NumPy uses much less memory to store data and it provides a mechanism of specifying the data types. This allows the code to be optimized even further.\n",
        "\n",
        "## What is an array?\n",
        "\n",
        "An array is a central data structure of the NumPy library. An array is a grid of values and it contains information about the raw data, how to locate an element, and how to interpret an element. It has a grid of elements that can be indexed in various ways. The elements are all of the same type, referred to as the array dtype.\n",
        "\n",
        "An array can be indexed by a tuple of nonnegative integers, by booleans, by another array, or by integers. The rank of the array is the number of dimensions. The shape of the array is a tuple of integers giving the size of the array along each dimension.\n",
        "\n",
        "One way we can initialize NumPy arrays is from Python lists, using nested lists for two- or higher-dimensional data.\n"
      ],
      "metadata": {
        "id": "u_lnjzLl17Nw"
      }
    },
    {
      "cell_type": "markdown",
      "source": [
        "## Properties of Array"
      ],
      "metadata": {
        "id": "LjxasV4SBA8n"
      }
    },
    {
      "cell_type": "code",
      "source": [
        "print(f'{array_1dim.ndim} {array_2dim.ndim} {array_3dim.ndim}')"
      ],
      "metadata": {
        "colab": {
          "base_uri": "https://localhost:8080/"
        },
        "id": "T2__jwxo16VC",
        "outputId": "9fc3b4d7-838c-49b7-9853-8478c254df8a"
      },
      "execution_count": 4,
      "outputs": [
        {
          "output_type": "stream",
          "name": "stdout",
          "text": [
            "1 2 3\n"
          ]
        }
      ]
    },
    {
      "cell_type": "code",
      "source": [
        "print(f'{array_1dim.shape} {array_2dim.shape} {array_3dim.shape}')"
      ],
      "metadata": {
        "colab": {
          "base_uri": "https://localhost:8080/"
        },
        "id": "Qop31X0p10V5",
        "outputId": "b9307626-cf8d-4a05-a8d1-7f57a649e687"
      },
      "execution_count": 5,
      "outputs": [
        {
          "output_type": "stream",
          "name": "stdout",
          "text": [
            "(7,) (3, 3) (2, 3, 3)\n"
          ]
        }
      ]
    },
    {
      "cell_type": "code",
      "source": [
        "array_1dim.size"
      ],
      "metadata": {
        "colab": {
          "base_uri": "https://localhost:8080/"
        },
        "id": "N2RjiyVk2aBs",
        "outputId": "37c7951b-4e93-47b4-b12a-928cb12736ad"
      },
      "execution_count": 6,
      "outputs": [
        {
          "output_type": "execute_result",
          "data": {
            "text/plain": [
              "7"
            ]
          },
          "metadata": {},
          "execution_count": 6
        }
      ]
    },
    {
      "cell_type": "code",
      "source": [
        "array_1dim.nbytes"
      ],
      "metadata": {
        "colab": {
          "base_uri": "https://localhost:8080/"
        },
        "id": "SH5YBoPR2frd",
        "outputId": "2035a09f-436f-477d-d2d0-321ec48fc023"
      },
      "execution_count": 7,
      "outputs": [
        {
          "output_type": "execute_result",
          "data": {
            "text/plain": [
              "56"
            ]
          },
          "metadata": {},
          "execution_count": 7
        }
      ]
    },
    {
      "cell_type": "code",
      "source": [
        "array_1dim.nbytes/array_1dim.size # size of one unit of data type"
      ],
      "metadata": {
        "colab": {
          "base_uri": "https://localhost:8080/"
        },
        "id": "T1-Z5EQX_uu_",
        "outputId": "069619b7-2d55-4537-d288-ee3dd55a61e0"
      },
      "execution_count": 8,
      "outputs": [
        {
          "output_type": "execute_result",
          "data": {
            "text/plain": [
              "8.0"
            ]
          },
          "metadata": {},
          "execution_count": 8
        }
      ]
    },
    {
      "cell_type": "code",
      "source": [
        "array_1dim.dtype"
      ],
      "metadata": {
        "colab": {
          "base_uri": "https://localhost:8080/"
        },
        "id": "4aLH7W232sZx",
        "outputId": "4e708033-e37d-4fa4-92c6-1df22cfa4efb"
      },
      "execution_count": 9,
      "outputs": [
        {
          "output_type": "execute_result",
          "data": {
            "text/plain": [
              "dtype('int64')"
            ]
          },
          "metadata": {},
          "execution_count": 9
        }
      ]
    },
    {
      "cell_type": "code",
      "source": [
        "for i,v in {k:v for k,v in np.sctypes.items()}.items():\n",
        "  print(i,v)"
      ],
      "metadata": {
        "id": "7o7DwSOv20ZN",
        "colab": {
          "base_uri": "https://localhost:8080/"
        },
        "outputId": "0b80b37b-1a2b-4b45-a727-97111ecc18b5"
      },
      "execution_count": 10,
      "outputs": [
        {
          "output_type": "stream",
          "name": "stdout",
          "text": [
            "int [<class 'numpy.int8'>, <class 'numpy.int16'>, <class 'numpy.int32'>, <class 'numpy.int64'>]\n",
            "uint [<class 'numpy.uint8'>, <class 'numpy.uint16'>, <class 'numpy.uint32'>, <class 'numpy.uint64'>]\n",
            "float [<class 'numpy.float16'>, <class 'numpy.float32'>, <class 'numpy.float64'>, <class 'numpy.longdouble'>]\n",
            "complex [<class 'numpy.complex64'>, <class 'numpy.complex128'>, <class 'numpy.clongdouble'>]\n",
            "others [<class 'bool'>, <class 'object'>, <class 'bytes'>, <class 'str'>, <class 'numpy.void'>]\n"
          ]
        }
      ]
    },
    {
      "cell_type": "markdown",
      "source": [
        "## Generating numbers"
      ],
      "metadata": {
        "id": "2RZpwp6GBO74"
      }
    },
    {
      "cell_type": "code",
      "source": [
        "# i range\n",
        "print([*range(1,100)]) # only integer numbers"
      ],
      "metadata": {
        "colab": {
          "base_uri": "https://localhost:8080/"
        },
        "id": "dn29O4Ll-Urf",
        "outputId": "143bb82e-ffb7-499e-d4ee-c81fa7b24f53"
      },
      "execution_count": 11,
      "outputs": [
        {
          "output_type": "stream",
          "name": "stdout",
          "text": [
            "[1, 2, 3, 4, 5, 6, 7, 8, 9, 10, 11, 12, 13, 14, 15, 16, 17, 18, 19, 20, 21, 22, 23, 24, 25, 26, 27, 28, 29, 30, 31, 32, 33, 34, 35, 36, 37, 38, 39, 40, 41, 42, 43, 44, 45, 46, 47, 48, 49, 50, 51, 52, 53, 54, 55, 56, 57, 58, 59, 60, 61, 62, 63, 64, 65, 66, 67, 68, 69, 70, 71, 72, 73, 74, 75, 76, 77, 78, 79, 80, 81, 82, 83, 84, 85, 86, 87, 88, 89, 90, 91, 92, 93, 94, 95, 96, 97, 98, 99]\n"
          ]
        }
      ]
    },
    {
      "cell_type": "code",
      "source": [
        "np.arange(1,100,40)"
      ],
      "metadata": {
        "colab": {
          "base_uri": "https://localhost:8080/"
        },
        "id": "HMKB8VcMBkZt",
        "outputId": "c0eb3e8f-7766-4e48-d6ae-4e6bcfc76d5d"
      },
      "execution_count": 12,
      "outputs": [
        {
          "output_type": "execute_result",
          "data": {
            "text/plain": [
              "array([ 1, 41, 81])"
            ]
          },
          "metadata": {},
          "execution_count": 12
        }
      ]
    },
    {
      "cell_type": "code",
      "source": [
        "np.linspace(1,100,11)"
      ],
      "metadata": {
        "colab": {
          "base_uri": "https://localhost:8080/"
        },
        "id": "6Bk4xuzmB50F",
        "outputId": "7ebd14ee-08b4-4004-a547-8a3b76ce9827"
      },
      "execution_count": 13,
      "outputs": [
        {
          "output_type": "execute_result",
          "data": {
            "text/plain": [
              "array([  1. ,  10.9,  20.8,  30.7,  40.6,  50.5,  60.4,  70.3,  80.2,\n",
              "        90.1, 100. ])"
            ]
          },
          "metadata": {},
          "execution_count": 13
        }
      ]
    },
    {
      "cell_type": "code",
      "source": [
        "np.logspace(1,10,10)"
      ],
      "metadata": {
        "colab": {
          "base_uri": "https://localhost:8080/"
        },
        "id": "vxaYx2teCXoN",
        "outputId": "1f3fe6e1-3bfa-46a7-f2b0-e32fd2be2ad5"
      },
      "execution_count": 14,
      "outputs": [
        {
          "output_type": "execute_result",
          "data": {
            "text/plain": [
              "array([1.e+01, 1.e+02, 1.e+03, 1.e+04, 1.e+05, 1.e+06, 1.e+07, 1.e+08,\n",
              "       1.e+09, 1.e+10])"
            ]
          },
          "metadata": {},
          "execution_count": 14
        }
      ]
    },
    {
      "cell_type": "markdown",
      "source": [
        "## Generating Array ones and zeros\n",
        "\n",
        "\n"
      ],
      "metadata": {
        "id": "SrBiKHkYEA9I"
      }
    },
    {
      "cell_type": "code",
      "source": [
        "np.zeros((3,3))"
      ],
      "metadata": {
        "colab": {
          "base_uri": "https://localhost:8080/"
        },
        "id": "b9eNlRo0Cf_5",
        "outputId": "a6da717c-529c-4ac8-e448-e0cf5d4ab5ab"
      },
      "execution_count": 15,
      "outputs": [
        {
          "output_type": "execute_result",
          "data": {
            "text/plain": [
              "array([[0., 0., 0.],\n",
              "       [0., 0., 0.],\n",
              "       [0., 0., 0.]])"
            ]
          },
          "metadata": {},
          "execution_count": 15
        }
      ]
    },
    {
      "cell_type": "code",
      "source": [
        "np.empty((3,3))"
      ],
      "metadata": {
        "colab": {
          "base_uri": "https://localhost:8080/"
        },
        "id": "PQwKQTY4xWO3",
        "outputId": "51941b0b-cd1c-4467-f015-c86be3433422"
      },
      "execution_count": 16,
      "outputs": [
        {
          "output_type": "execute_result",
          "data": {
            "text/plain": [
              "array([[0., 0., 0.],\n",
              "       [0., 0., 0.],\n",
              "       [0., 0., 0.]])"
            ]
          },
          "metadata": {},
          "execution_count": 16
        }
      ]
    },
    {
      "cell_type": "code",
      "source": [
        "np.full((2,2), 2)"
      ],
      "metadata": {
        "colab": {
          "base_uri": "https://localhost:8080/"
        },
        "id": "6KzELs5SxuP_",
        "outputId": "055325b1-06d1-4c30-ca46-929c6ffc2c33"
      },
      "execution_count": 17,
      "outputs": [
        {
          "output_type": "execute_result",
          "data": {
            "text/plain": [
              "array([[2, 2],\n",
              "       [2, 2]])"
            ]
          },
          "metadata": {},
          "execution_count": 17
        }
      ]
    },
    {
      "cell_type": "code",
      "source": [
        "np.ones((3,3,))"
      ],
      "metadata": {
        "colab": {
          "base_uri": "https://localhost:8080/"
        },
        "id": "E1kygj90DS8N",
        "outputId": "d14e0b99-72b7-4a0e-ddcc-8065c6f770c9"
      },
      "execution_count": 18,
      "outputs": [
        {
          "output_type": "execute_result",
          "data": {
            "text/plain": [
              "array([[1., 1., 1.],\n",
              "       [1., 1., 1.],\n",
              "       [1., 1., 1.]])"
            ]
          },
          "metadata": {},
          "execution_count": 18
        }
      ]
    },
    {
      "cell_type": "code",
      "source": [
        "np.eye(4,4)"
      ],
      "metadata": {
        "colab": {
          "base_uri": "https://localhost:8080/"
        },
        "id": "yqNYbFpcx23e",
        "outputId": "5e9f5a98-bacd-4af8-ac9c-99d5ed3f2a0a"
      },
      "execution_count": 19,
      "outputs": [
        {
          "output_type": "execute_result",
          "data": {
            "text/plain": [
              "array([[1., 0., 0., 0.],\n",
              "       [0., 1., 0., 0.],\n",
              "       [0., 0., 1., 0.],\n",
              "       [0., 0., 0., 1.]])"
            ]
          },
          "metadata": {},
          "execution_count": 19
        }
      ]
    },
    {
      "cell_type": "code",
      "source": [
        "np.diag([1,2,3,4,5])"
      ],
      "metadata": {
        "colab": {
          "base_uri": "https://localhost:8080/"
        },
        "id": "4rdsH3whyCB9",
        "outputId": "1a1c9113-2dc8-4249-c8ed-d0a033eb4325"
      },
      "execution_count": 20,
      "outputs": [
        {
          "output_type": "execute_result",
          "data": {
            "text/plain": [
              "array([[1, 0, 0, 0, 0],\n",
              "       [0, 2, 0, 0, 0],\n",
              "       [0, 0, 3, 0, 0],\n",
              "       [0, 0, 0, 4, 0],\n",
              "       [0, 0, 0, 0, 5]])"
            ]
          },
          "metadata": {},
          "execution_count": 20
        }
      ]
    },
    {
      "cell_type": "markdown",
      "source": [
        "## Generating random Array"
      ],
      "metadata": {
        "id": "lKJr6MabEPMI"
      }
    },
    {
      "cell_type": "code",
      "source": [
        "np.random.random((1,2))\n"
      ],
      "metadata": {
        "colab": {
          "base_uri": "https://localhost:8080/"
        },
        "id": "zRN9-oRbDiVB",
        "outputId": "3749a6c3-697a-42b5-8cc2-613dcf361535"
      },
      "execution_count": 21,
      "outputs": [
        {
          "output_type": "execute_result",
          "data": {
            "text/plain": [
              "array([[0.71257618, 0.90375463]])"
            ]
          },
          "metadata": {},
          "execution_count": 21
        }
      ]
    },
    {
      "cell_type": "code",
      "source": [
        "np.random.random(12)"
      ],
      "metadata": {
        "colab": {
          "base_uri": "https://localhost:8080/"
        },
        "id": "Iz7MJH6LFcWH",
        "outputId": "6fd70880-b6aa-4615-8c35-ca47c7f314c3"
      },
      "execution_count": 22,
      "outputs": [
        {
          "output_type": "execute_result",
          "data": {
            "text/plain": [
              "array([0.22811218, 0.45447276, 0.44507609, 0.88675864, 0.6428596 ,\n",
              "       0.12067598, 0.42744196, 0.067778  , 0.17937835, 0.49788459,\n",
              "       0.99755744, 0.54922233])"
            ]
          },
          "metadata": {},
          "execution_count": 22
        }
      ]
    },
    {
      "cell_type": "code",
      "source": [
        "np.random.random()"
      ],
      "metadata": {
        "colab": {
          "base_uri": "https://localhost:8080/"
        },
        "id": "6_xJqUcnFvRo",
        "outputId": "58ec943c-e3f5-4791-b617-4dc83452f032"
      },
      "execution_count": 23,
      "outputs": [
        {
          "output_type": "execute_result",
          "data": {
            "text/plain": [
              "0.416263424358722"
            ]
          },
          "metadata": {},
          "execution_count": 23
        }
      ]
    },
    {
      "cell_type": "code",
      "source": [
        "np.random.randn(3,3)#Return a sample (or samples) from the “standard normal” distribution."
      ],
      "metadata": {
        "colab": {
          "base_uri": "https://localhost:8080/"
        },
        "id": "v7RvaQxnFvr4",
        "outputId": "20c0d77e-2cac-4d21-d543-88910ec4c1b7"
      },
      "execution_count": 24,
      "outputs": [
        {
          "output_type": "execute_result",
          "data": {
            "text/plain": [
              "array([[ 0.76318544, -0.88901796,  0.03413062],\n",
              "       [-1.38111661, -1.37909874,  0.27756097],\n",
              "       [-0.04830896, -0.88725357, -0.52337017]])"
            ]
          },
          "metadata": {},
          "execution_count": 24
        }
      ]
    },
    {
      "cell_type": "code",
      "source": [
        "np.random.randint(0,100,(3,3))"
      ],
      "metadata": {
        "colab": {
          "base_uri": "https://localhost:8080/"
        },
        "id": "eLf2MFj3F4do",
        "outputId": "f9f2e06f-11e0-4c97-b77c-73954f85f0f5"
      },
      "execution_count": 25,
      "outputs": [
        {
          "output_type": "execute_result",
          "data": {
            "text/plain": [
              "array([[61, 72, 62],\n",
              "       [68, 30, 19],\n",
              "       [35, 75, 44]])"
            ]
          },
          "metadata": {},
          "execution_count": 25
        }
      ]
    },
    {
      "cell_type": "markdown",
      "source": [
        "## Slicing and Indexing"
      ],
      "metadata": {
        "id": "DjYeobCJK6kV"
      }
    },
    {
      "cell_type": "code",
      "source": [
        "test = np.random.randint(0,100,(3,3))"
      ],
      "metadata": {
        "id": "aY04kmJMNTXt"
      },
      "execution_count": 26,
      "outputs": []
    },
    {
      "cell_type": "code",
      "source": [
        "test"
      ],
      "metadata": {
        "colab": {
          "base_uri": "https://localhost:8080/"
        },
        "id": "yt6e2_eWNVgX",
        "outputId": "88425056-98b5-493d-a0b9-ab44ce81d2c0"
      },
      "execution_count": 27,
      "outputs": [
        {
          "output_type": "execute_result",
          "data": {
            "text/plain": [
              "array([[50, 78, 11],\n",
              "       [65, 28, 40],\n",
              "       [17, 18,  2]])"
            ]
          },
          "metadata": {},
          "execution_count": 27
        }
      ]
    },
    {
      "cell_type": "code",
      "source": [
        "test[0,0]\n",
        "test[0,0]=1"
      ],
      "metadata": {
        "id": "y0_httITNWIF"
      },
      "execution_count": 28,
      "outputs": []
    },
    {
      "cell_type": "code",
      "source": [
        "test.item(6)"
      ],
      "metadata": {
        "colab": {
          "base_uri": "https://localhost:8080/"
        },
        "id": "0O2atHOyNYvs",
        "outputId": "81e07ac6-2dd6-46a4-9265-602292a08c9f"
      },
      "execution_count": 29,
      "outputs": [
        {
          "output_type": "execute_result",
          "data": {
            "text/plain": [
              "17"
            ]
          },
          "metadata": {},
          "execution_count": 29
        }
      ]
    },
    {
      "cell_type": "code",
      "source": [
        "test.item((1,1))"
      ],
      "metadata": {
        "colab": {
          "base_uri": "https://localhost:8080/"
        },
        "id": "T6ZYiHDWQPG2",
        "outputId": "de2cd8dd-d630-46f9-8ce4-d9791687e0bf"
      },
      "execution_count": 30,
      "outputs": [
        {
          "output_type": "execute_result",
          "data": {
            "text/plain": [
              "28"
            ]
          },
          "metadata": {},
          "execution_count": 30
        }
      ]
    },
    {
      "cell_type": "code",
      "source": [
        "test[1,0::1] #row,column row 0 , column 1"
      ],
      "metadata": {
        "colab": {
          "base_uri": "https://localhost:8080/"
        },
        "id": "VEMHwaNRNhst",
        "outputId": "4e0fd279-c2a7-4bcd-b5d9-b1bb752b9aac"
      },
      "execution_count": 31,
      "outputs": [
        {
          "output_type": "execute_result",
          "data": {
            "text/plain": [
              "array([65, 28, 40])"
            ]
          },
          "metadata": {},
          "execution_count": 31
        }
      ]
    },
    {
      "cell_type": "code",
      "source": [
        "test.take([0,3])"
      ],
      "metadata": {
        "colab": {
          "base_uri": "https://localhost:8080/"
        },
        "id": "FtO6X_6BPk-Y",
        "outputId": "f90a3088-b1c5-4713-9e42-740afec3e219"
      },
      "execution_count": 32,
      "outputs": [
        {
          "output_type": "execute_result",
          "data": {
            "text/plain": [
              "array([ 1, 65])"
            ]
          },
          "metadata": {},
          "execution_count": 32
        }
      ]
    },
    {
      "cell_type": "code",
      "source": [
        "test.put([1,2,3],[25,10,10]) # index and values"
      ],
      "metadata": {
        "id": "3iIwYCzFQiMX"
      },
      "execution_count": 33,
      "outputs": []
    },
    {
      "cell_type": "code",
      "source": [
        "test"
      ],
      "metadata": {
        "colab": {
          "base_uri": "https://localhost:8080/"
        },
        "id": "X-xODQRSQ0ZZ",
        "outputId": "1deac5f4-9317-4d9b-9e8c-df92290254c3"
      },
      "execution_count": 34,
      "outputs": [
        {
          "output_type": "execute_result",
          "data": {
            "text/plain": [
              "array([[ 1, 25, 10],\n",
              "       [10, 28, 40],\n",
              "       [17, 18,  2]])"
            ]
          },
          "metadata": {},
          "execution_count": 34
        }
      ]
    },
    {
      "cell_type": "code",
      "source": [
        "test[::-1,::-1]"
      ],
      "metadata": {
        "colab": {
          "base_uri": "https://localhost:8080/"
        },
        "id": "xpVcS0cOQ4Lr",
        "outputId": "2a99db7e-f28f-4d96-81db-adf4c449b70a"
      },
      "execution_count": 35,
      "outputs": [
        {
          "output_type": "execute_result",
          "data": {
            "text/plain": [
              "array([[ 2, 18, 17],\n",
              "       [40, 28, 10],\n",
              "       [10, 25,  1]])"
            ]
          },
          "metadata": {},
          "execution_count": 35
        }
      ]
    },
    {
      "cell_type": "markdown",
      "source": [
        "## Reshaping"
      ],
      "metadata": {
        "id": "wEf1hbXI2xdv"
      }
    },
    {
      "cell_type": "code",
      "source": [
        "np.linspace(1,100,9).reshape(3,3)"
      ],
      "metadata": {
        "colab": {
          "base_uri": "https://localhost:8080/"
        },
        "id": "FHSdsgOzS5am",
        "outputId": "0d80e54d-ab03-4494-f48c-e198851bff4d"
      },
      "execution_count": 36,
      "outputs": [
        {
          "output_type": "execute_result",
          "data": {
            "text/plain": [
              "array([[  1.   ,  13.375,  25.75 ],\n",
              "       [ 38.125,  50.5  ,  62.875],\n",
              "       [ 75.25 ,  87.625, 100.   ]])"
            ]
          },
          "metadata": {},
          "execution_count": 36
        }
      ]
    },
    {
      "cell_type": "code",
      "source": [
        "a=np.linspace(1,100,9)\n",
        "a.resize((3,3))"
      ],
      "metadata": {
        "id": "FBPn3fkq2v56"
      },
      "execution_count": 37,
      "outputs": []
    },
    {
      "cell_type": "code",
      "source": [
        "test = np.random.randint(1,100,(3,3))\n",
        "test"
      ],
      "metadata": {
        "colab": {
          "base_uri": "https://localhost:8080/"
        },
        "id": "LaKd0ALN3Kba",
        "outputId": "f4f8bd5d-b04d-4a21-ae51-f05e2c5227b0"
      },
      "execution_count": 38,
      "outputs": [
        {
          "output_type": "execute_result",
          "data": {
            "text/plain": [
              "array([[52, 11, 75],\n",
              "       [99, 91, 51],\n",
              "       [62, 49, 55]])"
            ]
          },
          "metadata": {},
          "execution_count": 38
        }
      ]
    },
    {
      "cell_type": "code",
      "source": [
        "test.swapaxes(0,1)"
      ],
      "metadata": {
        "colab": {
          "base_uri": "https://localhost:8080/"
        },
        "id": "U5zQjqSm3WR3",
        "outputId": "0282a591-31ff-4d4a-a6b8-ef9dae98cbd7"
      },
      "execution_count": 39,
      "outputs": [
        {
          "output_type": "execute_result",
          "data": {
            "text/plain": [
              "array([[52, 99, 62],\n",
              "       [11, 91, 49],\n",
              "       [75, 51, 55]])"
            ]
          },
          "metadata": {},
          "execution_count": 39
        }
      ]
    },
    {
      "cell_type": "code",
      "source": [
        "test.transpose()"
      ],
      "metadata": {
        "colab": {
          "base_uri": "https://localhost:8080/"
        },
        "id": "DodwdSzH4A3R",
        "outputId": "0b137766-1b89-4ecc-e85e-dfd9c6b04733"
      },
      "execution_count": 40,
      "outputs": [
        {
          "output_type": "execute_result",
          "data": {
            "text/plain": [
              "array([[52, 99, 62],\n",
              "       [11, 91, 49],\n",
              "       [75, 51, 55]])"
            ]
          },
          "metadata": {},
          "execution_count": 40
        }
      ]
    },
    {
      "cell_type": "markdown",
      "source": [
        "'C': Flatten the array in row-major (C-style) order. This means elements are read row by row first, then column by column.\n",
        "\n",
        "'F': Flatten the array in column-major (Fortran-style) order. This means elements are read column by column first, then row by row.\n",
        "\n",
        "'A': Flatten the array in column-major order if the array is Fortran contiguous in memory, otherwise flatten it in row-major order.\n",
        "\n",
        "'K': Flatten the array in the order the elements occur in memory.\n",
        "\n",
        "The default value is 'C', which means flattening the array in row-major order.\n",
        "\n",
        "\n",
        "\n",
        "\n",
        "\n",
        "\n"
      ],
      "metadata": {
        "id": "MLB9r2844oVI"
      }
    },
    {
      "cell_type": "code",
      "source": [
        "test.flatten('K')"
      ],
      "metadata": {
        "colab": {
          "base_uri": "https://localhost:8080/"
        },
        "id": "6pzhYgrb4IYH",
        "outputId": "31e51d6b-4fa5-43c5-de7e-0b76b780d089"
      },
      "execution_count": 41,
      "outputs": [
        {
          "output_type": "execute_result",
          "data": {
            "text/plain": [
              "array([52, 11, 75, 99, 91, 51, 62, 49, 55])"
            ]
          },
          "metadata": {},
          "execution_count": 41
        }
      ]
    },
    {
      "cell_type": "code",
      "source": [
        "test.sort(axis=0)\n",
        "test"
      ],
      "metadata": {
        "colab": {
          "base_uri": "https://localhost:8080/"
        },
        "id": "Sk-oddpC4OtZ",
        "outputId": "9fa37d9d-ca51-4a28-962d-65cd6d2ef84c"
      },
      "execution_count": 42,
      "outputs": [
        {
          "output_type": "execute_result",
          "data": {
            "text/plain": [
              "array([[52, 11, 51],\n",
              "       [62, 49, 55],\n",
              "       [99, 91, 75]])"
            ]
          },
          "metadata": {},
          "execution_count": 42
        }
      ]
    },
    {
      "cell_type": "markdown",
      "source": [
        "## Stacking"
      ],
      "metadata": {
        "id": "-J_SgrPsODAN"
      }
    },
    {
      "cell_type": "code",
      "source": [
        "test = np.random.randint(0,100,(3,3))\n",
        "test1=np.random.randint(0,100,(3,1))\n",
        "print(test,test1)"
      ],
      "metadata": {
        "colab": {
          "base_uri": "https://localhost:8080/"
        },
        "id": "Ol805G_BNnW6",
        "outputId": "b6a89a0c-8b17-4ec8-def1-b0ee02cd7374"
      },
      "execution_count": 43,
      "outputs": [
        {
          "output_type": "stream",
          "name": "stdout",
          "text": [
            "[[69 37 62]\n",
            " [52 48 12]\n",
            " [59 26 76]] [[22]\n",
            " [89]\n",
            " [40]]\n"
          ]
        }
      ]
    },
    {
      "cell_type": "code",
      "source": [
        "np.hstack((test,test1))"
      ],
      "metadata": {
        "colab": {
          "base_uri": "https://localhost:8080/"
        },
        "id": "xA2n6nnSOY3S",
        "outputId": "054cb21b-f91d-45c4-8d87-6ed2340ec7e7"
      },
      "execution_count": 44,
      "outputs": [
        {
          "output_type": "execute_result",
          "data": {
            "text/plain": [
              "array([[69, 37, 62, 22],\n",
              "       [52, 48, 12, 89],\n",
              "       [59, 26, 76, 40]])"
            ]
          },
          "metadata": {},
          "execution_count": 44
        }
      ]
    },
    {
      "cell_type": "code",
      "source": [
        "np.vstack((test,test1.transpose()))"
      ],
      "metadata": {
        "colab": {
          "base_uri": "https://localhost:8080/"
        },
        "id": "DlIUbL-GPMpe",
        "outputId": "a82c0366-9cfe-4fd5-b525-17b475996e29"
      },
      "execution_count": 45,
      "outputs": [
        {
          "output_type": "execute_result",
          "data": {
            "text/plain": [
              "array([[69, 37, 62],\n",
              "       [52, 48, 12],\n",
              "       [59, 26, 76],\n",
              "       [22, 89, 40]])"
            ]
          },
          "metadata": {},
          "execution_count": 45
        }
      ]
    },
    {
      "cell_type": "code",
      "source": [
        "np.delete(test,0,axis=0)"
      ],
      "metadata": {
        "colab": {
          "base_uri": "https://localhost:8080/"
        },
        "id": "CKszloSfPh_j",
        "outputId": "f4f2fc17-4552-48a7-b3eb-7df8eb80b274"
      },
      "execution_count": 46,
      "outputs": [
        {
          "output_type": "execute_result",
          "data": {
            "text/plain": [
              "array([[52, 48, 12],\n",
              "       [59, 26, 76]])"
            ]
          },
          "metadata": {},
          "execution_count": 46
        }
      ]
    },
    {
      "cell_type": "code",
      "source": [
        "# المصفوفات الأساسية\n",
        "arr1 = np.array([1, 2, 3])\n",
        "arr2 = np.array([4, 5, 6])\n",
        "\n",
        "# دمج المصفوفات عبر الأعمدة باستخدام np.column_stack()\n",
        "result_column = np.column_stack((arr1, arr2))\n",
        "print(\"Using np.column_stack():\")\n",
        "print(result_column)\n",
        "\n",
        "# دمج المصفوفات عبر الصفوف باستخدام np.row_stack()\n",
        "result_row = np.row_stack((arr1, arr2))\n",
        "print(\"\\nUsing np.row_stack():\")\n",
        "print(result_row)"
      ],
      "metadata": {
        "colab": {
          "base_uri": "https://localhost:8080/"
        },
        "id": "zc-KZ57rQSV1",
        "outputId": "bb58c64f-3306-4c2e-d07d-122118179df8"
      },
      "execution_count": 47,
      "outputs": [
        {
          "output_type": "stream",
          "name": "stdout",
          "text": [
            "Using np.column_stack():\n",
            "[[1 4]\n",
            " [2 5]\n",
            " [3 6]]\n",
            "\n",
            "Using np.row_stack():\n",
            "[[1 2 3]\n",
            " [4 5 6]]\n"
          ]
        }
      ]
    },
    {
      "cell_type": "code",
      "source": [
        "\n",
        "# إنشاء مصفوفة عشوائية بحجم 4x4\n",
        "arr = np.random.randint(1, 10, (4, 4))\n",
        "print(\"Original Array:\")\n",
        "print(arr)\n",
        "print()\n",
        "\n",
        "# تقسيم المصفوفة إلى قسمين أفقيين\n",
        "h_splits = np.hsplit(arr, 2)\n",
        "print(\"Horizontal Split:\")\n",
        "for split in h_splits:\n",
        "    print(split)\n",
        "print()\n",
        "\n",
        "# تقسيم المصفوفة إلى قسمين رأسيين\n",
        "v_splits = np.vsplit(arr, 2)\n",
        "print(\"Vertical Split:\")\n",
        "for split in v_splits:\n",
        "    print(split)\n"
      ],
      "metadata": {
        "colab": {
          "base_uri": "https://localhost:8080/"
        },
        "id": "brar-4UORDqd",
        "outputId": "ef24b62d-a7f6-46e0-bac5-d0ed88eeb4bb"
      },
      "execution_count": 48,
      "outputs": [
        {
          "output_type": "stream",
          "name": "stdout",
          "text": [
            "Original Array:\n",
            "[[8 3 2 6]\n",
            " [2 1 9 9]\n",
            " [5 1 7 2]\n",
            " [6 3 6 2]]\n",
            "\n",
            "Horizontal Split:\n",
            "[[8 3]\n",
            " [2 1]\n",
            " [5 1]\n",
            " [6 3]]\n",
            "[[2 6]\n",
            " [9 9]\n",
            " [7 2]\n",
            " [6 2]]\n",
            "\n",
            "Vertical Split:\n",
            "[[8 3 2 6]\n",
            " [2 1 9 9]]\n",
            "[[5 1 7 2]\n",
            " [6 3 6 2]]\n"
          ]
        }
      ]
    },
    {
      "cell_type": "markdown",
      "source": [
        "## Copy"
      ],
      "metadata": {
        "id": "mgEAa6nDRqHW"
      }
    },
    {
      "cell_type": "code",
      "source": [
        "arr = np.random.randint(1, 10, (4, 4))\n",
        "arr.view()\n",
        "ex = arr.copy()\n",
        "ex"
      ],
      "metadata": {
        "colab": {
          "base_uri": "https://localhost:8080/"
        },
        "id": "SL_ZEW7DRcHP",
        "outputId": "ddd197b0-ae59-404e-809c-1cfabd4723f6"
      },
      "execution_count": 49,
      "outputs": [
        {
          "output_type": "execute_result",
          "data": {
            "text/plain": [
              "array([[6, 5, 6, 4],\n",
              "       [8, 9, 6, 6],\n",
              "       [4, 8, 6, 4],\n",
              "       [1, 3, 3, 1]])"
            ]
          },
          "metadata": {},
          "execution_count": 49
        }
      ]
    },
    {
      "cell_type": "code",
      "source": [
        "# Original 2D array\n",
        "original_array = np.array([[1, 2, 3],\n",
        "                           [4, 5, 6]])\n",
        "\n",
        "# Shallow copy using copy()\n",
        "shallow_copy = original_array.view()\n",
        "\n",
        "# Deep copy using copy() with deep=True\n",
        "deep_copy = original_array.copy()\n",
        "\n",
        "# Modify the first nested array in the copies\n",
        "shallow_copy[0][0] = 100\n",
        "deep_copy[0][0] = 1000\n",
        "\n",
        "# Print the original array and the copies\n",
        "print(\"Original Array:\")\n",
        "print(original_array)\n",
        "print(\"\\nShallow Copy (modified first element of the first nested array):\")\n",
        "print(shallow_copy)\n",
        "print(\"\\nDeep Copy (modified first element of the first nested array):\")\n",
        "print(deep_copy)\n"
      ],
      "metadata": {
        "colab": {
          "base_uri": "https://localhost:8080/"
        },
        "id": "CoBO714LR8q2",
        "outputId": "5887aa13-2841-4c64-98a9-a1c835bb7b7f"
      },
      "execution_count": 50,
      "outputs": [
        {
          "output_type": "stream",
          "name": "stdout",
          "text": [
            "Original Array:\n",
            "[[100   2   3]\n",
            " [  4   5   6]]\n",
            "\n",
            "Shallow Copy (modified first element of the first nested array):\n",
            "[[100   2   3]\n",
            " [  4   5   6]]\n",
            "\n",
            "Deep Copy (modified first element of the first nested array):\n",
            "[[1000    2    3]\n",
            " [   4    5    6]]\n"
          ]
        }
      ]
    },
    {
      "cell_type": "markdown",
      "source": [
        "# Basic Math"
      ],
      "metadata": {
        "id": "J5pJAHB-ZU1y"
      }
    },
    {
      "cell_type": "code",
      "source": [
        "arr_1 = np.array([1,2,3,4,5])\n",
        "arr_2= np.array([5,6,7,8,9])"
      ],
      "metadata": {
        "id": "oQK5fq8MSWAp"
      },
      "execution_count": 51,
      "outputs": []
    },
    {
      "cell_type": "code",
      "source": [
        "arr_1/arr_2"
      ],
      "metadata": {
        "colab": {
          "base_uri": "https://localhost:8080/"
        },
        "id": "3xvoTPTgZmy-",
        "outputId": "995e4121-82ba-47a8-ae10-1d3087743a8e"
      },
      "execution_count": 52,
      "outputs": [
        {
          "output_type": "execute_result",
          "data": {
            "text/plain": [
              "array([0.2       , 0.33333333, 0.42857143, 0.5       , 0.55555556])"
            ]
          },
          "metadata": {},
          "execution_count": 52
        }
      ]
    },
    {
      "cell_type": "code",
      "source": [
        "arr_1.max()"
      ],
      "metadata": {
        "colab": {
          "base_uri": "https://localhost:8080/"
        },
        "id": "kPYsVckTZsFl",
        "outputId": "dff41d42-16b1-42aa-b744-74a28e88da4d"
      },
      "execution_count": 53,
      "outputs": [
        {
          "output_type": "execute_result",
          "data": {
            "text/plain": [
              "5"
            ]
          },
          "metadata": {},
          "execution_count": 53
        }
      ]
    },
    {
      "cell_type": "code",
      "source": [
        "arr_1.min()"
      ],
      "metadata": {
        "colab": {
          "base_uri": "https://localhost:8080/"
        },
        "id": "LvEtY7ijZ4O2",
        "outputId": "b836886c-fe66-4e8f-e035-d9749c424112"
      },
      "execution_count": 54,
      "outputs": [
        {
          "output_type": "execute_result",
          "data": {
            "text/plain": [
              "1"
            ]
          },
          "metadata": {},
          "execution_count": 54
        }
      ]
    },
    {
      "cell_type": "code",
      "source": [
        "arr_1.mean()"
      ],
      "metadata": {
        "colab": {
          "base_uri": "https://localhost:8080/"
        },
        "id": "WInV8PcvZ77i",
        "outputId": "8ece968b-9914-4fb9-e37a-daefe9b81ce2"
      },
      "execution_count": 55,
      "outputs": [
        {
          "output_type": "execute_result",
          "data": {
            "text/plain": [
              "3.0"
            ]
          },
          "metadata": {},
          "execution_count": 55
        }
      ]
    },
    {
      "cell_type": "code",
      "source": [
        "arr_1.std()"
      ],
      "metadata": {
        "colab": {
          "base_uri": "https://localhost:8080/"
        },
        "id": "xHm8HNuIZ92u",
        "outputId": "7b4d9116-8fd6-414d-c4f0-097ef9081f05"
      },
      "execution_count": 56,
      "outputs": [
        {
          "output_type": "execute_result",
          "data": {
            "text/plain": [
              "1.4142135623730951"
            ]
          },
          "metadata": {},
          "execution_count": 56
        }
      ]
    },
    {
      "cell_type": "code",
      "source": [
        "arr_1.sum() # accept access"
      ],
      "metadata": {
        "colab": {
          "base_uri": "https://localhost:8080/"
        },
        "id": "hehe_Wq-aBjR",
        "outputId": "5effb6ca-70f2-47cf-ff77-aa168cefe54d"
      },
      "execution_count": 57,
      "outputs": [
        {
          "output_type": "execute_result",
          "data": {
            "text/plain": [
              "15"
            ]
          },
          "metadata": {},
          "execution_count": 57
        }
      ]
    },
    {
      "cell_type": "code",
      "source": [
        "arr_1 = np.random.randint(0,100,(5,5))\n",
        "arr_1"
      ],
      "metadata": {
        "colab": {
          "base_uri": "https://localhost:8080/"
        },
        "id": "8D_IFOBRaIQ2",
        "outputId": "ad2cce5a-778d-4fc9-f456-06edd31ff648"
      },
      "execution_count": 58,
      "outputs": [
        {
          "output_type": "execute_result",
          "data": {
            "text/plain": [
              "array([[75, 33, 43, 79, 50],\n",
              "       [36, 36, 10, 47, 18],\n",
              "       [57, 65, 26, 73, 21],\n",
              "       [34,  0,  7, 93, 63],\n",
              "       [94, 65, 90, 48, 20]])"
            ]
          },
          "metadata": {},
          "execution_count": 58
        }
      ]
    },
    {
      "cell_type": "code",
      "source": [
        "arr_1.sum(axis=0)"
      ],
      "metadata": {
        "colab": {
          "base_uri": "https://localhost:8080/"
        },
        "id": "nx7C2n2ZaYQ2",
        "outputId": "c565f419-03bc-4d0a-d0fa-49e1002d59e2"
      },
      "execution_count": 59,
      "outputs": [
        {
          "output_type": "execute_result",
          "data": {
            "text/plain": [
              "array([296, 199, 176, 340, 172])"
            ]
          },
          "metadata": {},
          "execution_count": 59
        }
      ]
    },
    {
      "cell_type": "code",
      "source": [
        "arr_1.cumsum()"
      ],
      "metadata": {
        "colab": {
          "base_uri": "https://localhost:8080/"
        },
        "id": "jOm1XKLqacpu",
        "outputId": "f6e4d1b7-a07c-492b-cc44-8c35a4af7f64"
      },
      "execution_count": 60,
      "outputs": [
        {
          "output_type": "execute_result",
          "data": {
            "text/plain": [
              "array([  75,  108,  151,  230,  280,  316,  352,  362,  409,  427,  484,\n",
              "        549,  575,  648,  669,  703,  703,  710,  803,  866,  960, 1025,\n",
              "       1115, 1163, 1183])"
            ]
          },
          "metadata": {},
          "execution_count": 60
        }
      ]
    },
    {
      "cell_type": "code",
      "source": [
        "np.power(2,3)"
      ],
      "metadata": {
        "colab": {
          "base_uri": "https://localhost:8080/"
        },
        "id": "mjCECjMjakHd",
        "outputId": "b806333f-deb7-43a5-f560-315e6aa893cf"
      },
      "execution_count": 61,
      "outputs": [
        {
          "output_type": "execute_result",
          "data": {
            "text/plain": [
              "8"
            ]
          },
          "metadata": {},
          "execution_count": 61
        }
      ]
    },
    {
      "cell_type": "code",
      "source": [
        "np.sqrt(2)"
      ],
      "metadata": {
        "colab": {
          "base_uri": "https://localhost:8080/"
        },
        "id": "YPWHOoOoayOJ",
        "outputId": "77ee3ad5-1762-44e4-e943-da54eddbf59d"
      },
      "execution_count": 62,
      "outputs": [
        {
          "output_type": "execute_result",
          "data": {
            "text/plain": [
              "1.4142135623730951"
            ]
          },
          "metadata": {},
          "execution_count": 62
        }
      ]
    },
    {
      "cell_type": "code",
      "source": [
        "np.cbrt(2)"
      ],
      "metadata": {
        "colab": {
          "base_uri": "https://localhost:8080/"
        },
        "id": "PllYUkeva2Hk",
        "outputId": "cfd1d417-4cfb-4843-a579-d1811da922d7"
      },
      "execution_count": 63,
      "outputs": [
        {
          "output_type": "execute_result",
          "data": {
            "text/plain": [
              "1.2599210498948734"
            ]
          },
          "metadata": {},
          "execution_count": 63
        }
      ]
    },
    {
      "cell_type": "code",
      "source": [
        "np.abs(-1)"
      ],
      "metadata": {
        "colab": {
          "base_uri": "https://localhost:8080/"
        },
        "id": "T-n3KJIta6cX",
        "outputId": "27ce805b-9b28-4e1f-f86f-4a36035a489b"
      },
      "execution_count": 64,
      "outputs": [
        {
          "output_type": "execute_result",
          "data": {
            "text/plain": [
              "1"
            ]
          },
          "metadata": {},
          "execution_count": 64
        }
      ]
    },
    {
      "cell_type": "code",
      "source": [
        "np.absolute(-1)"
      ],
      "metadata": {
        "colab": {
          "base_uri": "https://localhost:8080/"
        },
        "id": "OyzWvTdLbBLH",
        "outputId": "e0ae2630-7b0b-491d-9903-0e122082ccf5"
      },
      "execution_count": 65,
      "outputs": [
        {
          "output_type": "execute_result",
          "data": {
            "text/plain": [
              "1"
            ]
          },
          "metadata": {},
          "execution_count": 65
        }
      ]
    },
    {
      "cell_type": "code",
      "source": [
        "np.exp(1)"
      ],
      "metadata": {
        "colab": {
          "base_uri": "https://localhost:8080/"
        },
        "id": "mxufH3nIbGWw",
        "outputId": "5fe51f88-4027-4309-8b0d-bf292cb7e24a"
      },
      "execution_count": 66,
      "outputs": [
        {
          "output_type": "execute_result",
          "data": {
            "text/plain": [
              "2.718281828459045"
            ]
          },
          "metadata": {},
          "execution_count": 66
        }
      ]
    },
    {
      "cell_type": "code",
      "source": [
        "np.pi"
      ],
      "metadata": {
        "colab": {
          "base_uri": "https://localhost:8080/"
        },
        "id": "bZSI2q_PbOb0",
        "outputId": "fd4809b9-7730-454d-8efd-3ac7acba0fa9"
      },
      "execution_count": 67,
      "outputs": [
        {
          "output_type": "execute_result",
          "data": {
            "text/plain": [
              "3.141592653589793"
            ]
          },
          "metadata": {},
          "execution_count": 67
        }
      ]
    },
    {
      "cell_type": "code",
      "source": [
        "np.log2(2)"
      ],
      "metadata": {
        "colab": {
          "base_uri": "https://localhost:8080/"
        },
        "id": "ZBslgmu-bQJD",
        "outputId": "c79a9131-3e5e-4fe4-c655-e27edeaf8831"
      },
      "execution_count": 68,
      "outputs": [
        {
          "output_type": "execute_result",
          "data": {
            "text/plain": [
              "1.0"
            ]
          },
          "metadata": {},
          "execution_count": 68
        }
      ]
    },
    {
      "cell_type": "code",
      "source": [
        "np.log(11)/np.log(11)"
      ],
      "metadata": {
        "colab": {
          "base_uri": "https://localhost:8080/"
        },
        "id": "tR_dHlCobjwj",
        "outputId": "6b0220b8-4c65-4370-cc99-dfbcdef773ad"
      },
      "execution_count": 69,
      "outputs": [
        {
          "output_type": "execute_result",
          "data": {
            "text/plain": [
              "1.0"
            ]
          },
          "metadata": {},
          "execution_count": 69
        }
      ]
    },
    {
      "cell_type": "code",
      "source": [
        "arr = np.array([24, 36, 48])\n",
        "gcd = np.gcd.reduce(arr)\n",
        "lcm = np.lcm.reduce(arr)\n",
        "print(\"GCD of the array is:\", gcd)\n",
        "print(\"LCM of the array is:\", lcm)"
      ],
      "metadata": {
        "colab": {
          "base_uri": "https://localhost:8080/"
        },
        "id": "3w-pjlzLbvil",
        "outputId": "91b8538a-698b-4401-ed7c-1bd8c62114a3"
      },
      "execution_count": 70,
      "outputs": [
        {
          "output_type": "stream",
          "name": "stdout",
          "text": [
            "GCD of the array is: 12\n",
            "LCM of the array is: 144\n"
          ]
        }
      ]
    },
    {
      "cell_type": "code",
      "source": [
        "np.floor(1.2)"
      ],
      "metadata": {
        "colab": {
          "base_uri": "https://localhost:8080/"
        },
        "id": "VH5kYn4EcSyh",
        "outputId": "2c151869-2678-456d-8207-5525744a4a95"
      },
      "execution_count": 71,
      "outputs": [
        {
          "output_type": "execute_result",
          "data": {
            "text/plain": [
              "1.0"
            ]
          },
          "metadata": {},
          "execution_count": 71
        }
      ]
    },
    {
      "cell_type": "code",
      "source": [
        "np.ceil(1.3)"
      ],
      "metadata": {
        "colab": {
          "base_uri": "https://localhost:8080/"
        },
        "id": "fP-lCTCJcsQi",
        "outputId": "db4ca26d-977a-495d-b82f-ae72c929167f"
      },
      "execution_count": 72,
      "outputs": [
        {
          "output_type": "execute_result",
          "data": {
            "text/plain": [
              "2.0"
            ]
          },
          "metadata": {},
          "execution_count": 72
        }
      ]
    },
    {
      "cell_type": "code",
      "source": [
        "arr = np.array([[1, 2, 3],\n",
        "                [4, 5, 6]])\n",
        "\n",
        "argmax_index = np.argmax(arr)\n",
        "print(\"arg max\", argmax_index)\n",
        "\n",
        "argmin_index = np.argmin(arr)\n",
        "print(\"arg min\", argmin_index)"
      ],
      "metadata": {
        "colab": {
          "base_uri": "https://localhost:8080/"
        },
        "id": "dxWWd_fccuvB",
        "outputId": "5e615aa9-3dc8-4b97-ab8e-84cfc895309d"
      },
      "execution_count": 73,
      "outputs": [
        {
          "output_type": "stream",
          "name": "stdout",
          "text": [
            "arg max 5\n",
            "arg min 0\n"
          ]
        }
      ]
    },
    {
      "cell_type": "code",
      "source": [
        "np.round(np.cos(np.deg2rad(90)))"
      ],
      "metadata": {
        "colab": {
          "base_uri": "https://localhost:8080/"
        },
        "id": "yjx7QSq5cxdz",
        "outputId": "d3151009-1729-4ec9-fe85-6f3d8c6df37a"
      },
      "execution_count": 74,
      "outputs": [
        {
          "output_type": "execute_result",
          "data": {
            "text/plain": [
              "0.0"
            ]
          },
          "metadata": {},
          "execution_count": 74
        }
      ]
    },
    {
      "cell_type": "code",
      "source": [
        "np.rad2deg(np.pi)"
      ],
      "metadata": {
        "colab": {
          "base_uri": "https://localhost:8080/"
        },
        "id": "5ZZx1yrMdiWD",
        "outputId": "3f33849a-44b0-43ac-ce78-d519ce1fd9d8"
      },
      "execution_count": 75,
      "outputs": [
        {
          "output_type": "execute_result",
          "data": {
            "text/plain": [
              "180.0"
            ]
          },
          "metadata": {},
          "execution_count": 75
        }
      ]
    },
    {
      "cell_type": "markdown",
      "source": [
        "### on Vector"
      ],
      "metadata": {
        "id": "vTshG9liyfcB"
      }
    },
    {
      "cell_type": "code",
      "source": [
        "\n",
        "vector_a = np.array([1, 2, 3])\n",
        "vector_b = np.array([4, 5, 6])\n",
        "\n",
        "dot_product = np.dot(vector_a, vector_b)\n",
        "\n",
        "# Print the dot product\n",
        "print(\"Dot product:\", dot_product)\n"
      ],
      "metadata": {
        "colab": {
          "base_uri": "https://localhost:8080/"
        },
        "id": "03TfRb7keSPR",
        "outputId": "9b3ba059-1f9a-4df7-a0a5-b16e8808306b"
      },
      "execution_count": 76,
      "outputs": [
        {
          "output_type": "stream",
          "name": "stdout",
          "text": [
            "Dot product: 32\n"
          ]
        }
      ]
    },
    {
      "cell_type": "code",
      "source": [
        "vector = np.array([1, 2, 3])\n"
      ],
      "metadata": {
        "id": "ySX2E1V4sa8-"
      },
      "execution_count": 77,
      "outputs": []
    },
    {
      "cell_type": "code",
      "source": [
        "\n",
        "\n",
        "# Calculate the norm of the vector using the numpy.linalg.norm() function\n",
        "norm_of_vector = np.linalg.norm(vector)\n",
        "\n",
        "# Print the norm of the vector\n",
        "print(\"Norm of the vector:\", norm_of_vector)\n"
      ],
      "metadata": {
        "colab": {
          "base_uri": "https://localhost:8080/"
        },
        "id": "41ZzG9KopmxS",
        "outputId": "2e1c4327-96ba-42eb-82e6-85e90d1516b8"
      },
      "execution_count": 78,
      "outputs": [
        {
          "output_type": "stream",
          "name": "stdout",
          "text": [
            "Norm of the vector: 3.7416573867739413\n"
          ]
        }
      ]
    },
    {
      "cell_type": "code",
      "source": [
        "a = np.array([1, 2, 3])\n",
        "b = np.array([4, 5, 6])\n",
        "\n",
        "# Calculate the dot product\n",
        "dot_product = np.vdot(a, b)\n",
        "\n",
        "# Print the dot product\n",
        "print(\"Dot product:\", dot_product)\n"
      ],
      "metadata": {
        "colab": {
          "base_uri": "https://localhost:8080/"
        },
        "id": "ZBB1PNgTpxGH",
        "outputId": "e4c89458-835d-4f36-c043-bd04156f2441"
      },
      "execution_count": 79,
      "outputs": [
        {
          "output_type": "stream",
          "name": "stdout",
          "text": [
            "Dot product: 32\n"
          ]
        }
      ]
    },
    {
      "cell_type": "code",
      "source": [
        "\n",
        "# استخدام np.dot() لحساب المنتج الداخلي\n",
        "dot_product = np.dot(a, b)\n",
        "print(\"منتج النقطة باستخدام np.dot():\", dot_product)  # الناتج: 1*4 + 2*5 + 3*6 = 32\n",
        "\n",
        "# استخدام np.vdot() لحساب المنتج الداخلي\n",
        "vdot_product = np.vdot(a, b)\n",
        "print(\"منتج النقطة باستخدام np.vdot():\", vdot_product)  # الناتج: 1*4 + 2*5 + 3*6 = 32\n",
        "\n",
        "# مثال مع الأعداد المركبة\n",
        "c = np.array([1+2j, 3+4j])\n",
        "d = np.array([5+6j, 7+8j])\n",
        "\n",
        "# استخدام np.vdot() مع الأعداد المركبة\n",
        "vdot_complex = np.vdot(c, d)\n",
        "dot = np.dot(c, d)\n",
        "print(\"منتج النقطة بين متجهين مركبين باستخدام np.vdot():\", vdot_complex,dot)  # الناتج: (1*5 - 2*6) + (3*7 - 4*8) = (-7-8j)\n"
      ],
      "metadata": {
        "colab": {
          "base_uri": "https://localhost:8080/"
        },
        "id": "Bq0JeBuZrBEf",
        "outputId": "a43c7054-faa0-41f8-9d64-977e62e87314"
      },
      "execution_count": 80,
      "outputs": [
        {
          "output_type": "stream",
          "name": "stdout",
          "text": [
            "منتج النقطة باستخدام np.dot(): 32\n",
            "منتج النقطة باستخدام np.vdot(): 32\n",
            "منتج النقطة بين متجهين مركبين باستخدام np.vdot(): (70-8j) (-18+68j)\n"
          ]
        }
      ]
    },
    {
      "cell_type": "code",
      "source": [
        "# Define vectors a and b\n",
        "a = np.array([1, 2, 3])\n",
        "b = np.array([4, 5, 6])\n",
        "\n",
        "# Calculate the inner product using np.dot()\n",
        "inner_product = np.inner(a, b)\n",
        "\n",
        "# Calculate the outer product using np.outer()\n",
        "outer_product = np.outer(a, b)\n",
        "\n",
        "# Print the results\n",
        "print(\"Inner product:\", inner_product)\n",
        "print(\"Outer product:\\n\", outer_product)\n"
      ],
      "metadata": {
        "colab": {
          "base_uri": "https://localhost:8080/"
        },
        "id": "HDH-QiVirm_z",
        "outputId": "e9fc1f44-375b-493a-e4b8-55c45f604440"
      },
      "execution_count": 81,
      "outputs": [
        {
          "output_type": "stream",
          "name": "stdout",
          "text": [
            "Inner product: 32\n",
            "Outer product:\n",
            " [[ 4  5  6]\n",
            " [ 8 10 12]\n",
            " [12 15 18]]\n"
          ]
        }
      ]
    },
    {
      "cell_type": "markdown",
      "source": [
        "### on Matrix"
      ],
      "metadata": {
        "id": "W1KcRlfczegJ"
      }
    },
    {
      "cell_type": "code",
      "source": [
        "a = np.random.randint(1,9,(3,3))\n",
        "a"
      ],
      "metadata": {
        "colab": {
          "base_uri": "https://localhost:8080/"
        },
        "id": "Je4X-Ge5zAM5",
        "outputId": "2b2e49e5-8771-47fe-dca2-94068186978a"
      },
      "execution_count": 82,
      "outputs": [
        {
          "output_type": "execute_result",
          "data": {
            "text/plain": [
              "array([[8, 4, 4],\n",
              "       [2, 3, 7],\n",
              "       [7, 6, 8]])"
            ]
          },
          "metadata": {},
          "execution_count": 82
        }
      ]
    },
    {
      "cell_type": "code",
      "source": [
        "np.linalg.det(a)"
      ],
      "metadata": {
        "colab": {
          "base_uri": "https://localhost:8080/"
        },
        "id": "bvRtBq3Zzx5b",
        "outputId": "d1447998-93bb-4f8b-9fe4-c61e1f2630d7"
      },
      "execution_count": 83,
      "outputs": [
        {
          "output_type": "execute_result",
          "data": {
            "text/plain": [
              "-47.999999999999986"
            ]
          },
          "metadata": {},
          "execution_count": 83
        }
      ]
    },
    {
      "cell_type": "code",
      "source": [
        "np.round(np.matmul(np.linalg.inv(a),a)) #matmul == @"
      ],
      "metadata": {
        "colab": {
          "base_uri": "https://localhost:8080/"
        },
        "id": "8Mj8PILBzVEA",
        "outputId": "0370a215-6b4b-4ad4-ef61-448afb95deeb"
      },
      "execution_count": 84,
      "outputs": [
        {
          "output_type": "execute_result",
          "data": {
            "text/plain": [
              "array([[ 1., -0.,  0.],\n",
              "       [ 0.,  1.,  0.],\n",
              "       [-0.,  0.,  1.]])"
            ]
          },
          "metadata": {},
          "execution_count": 84
        }
      ]
    },
    {
      "cell_type": "code",
      "source": [
        "a=np.random.randint(1,10,(3,3))\n",
        "np.linalg.matrix_power(a,3)"
      ],
      "metadata": {
        "colab": {
          "base_uri": "https://localhost:8080/"
        },
        "id": "JBiNByMg40kK",
        "outputId": "f2d8c023-250b-43c0-ef45-52665f32e64e"
      },
      "execution_count": 96,
      "outputs": [
        {
          "output_type": "execute_result",
          "data": {
            "text/plain": [
              "array([[ 325,  288,  339],\n",
              "       [1896, 1717, 2032],\n",
              "       [2442, 2235, 2631]])"
            ]
          },
          "metadata": {},
          "execution_count": 96
        }
      ]
    },
    {
      "cell_type": "code",
      "source": [
        "a@a@a"
      ],
      "metadata": {
        "colab": {
          "base_uri": "https://localhost:8080/"
        },
        "id": "BberuWBo5TDI",
        "outputId": "1997dc93-a3b3-4245-dbc9-a229fc87b6f0"
      },
      "execution_count": 98,
      "outputs": [
        {
          "output_type": "execute_result",
          "data": {
            "text/plain": [
              "array([[ 325,  288,  339],\n",
              "       [1896, 1717, 2032],\n",
              "       [2442, 2235, 2631]])"
            ]
          },
          "metadata": {},
          "execution_count": 98
        }
      ]
    },
    {
      "cell_type": "code",
      "source": [
        "a.T"
      ],
      "metadata": {
        "colab": {
          "base_uri": "https://localhost:8080/"
        },
        "id": "hYxoPAvn0Wef",
        "outputId": "4d374bfa-c6fe-43da-f3fc-c28e393f6fd1"
      },
      "execution_count": 85,
      "outputs": [
        {
          "output_type": "execute_result",
          "data": {
            "text/plain": [
              "array([[8, 2, 7],\n",
              "       [4, 3, 6],\n",
              "       [4, 7, 8]])"
            ]
          },
          "metadata": {},
          "execution_count": 85
        }
      ]
    },
    {
      "cell_type": "code",
      "source": [
        "A = np.array([[1, 2],\n",
        "              [2, 4]])\n",
        "\n",
        "# حساب القيم الذاتية والقواعد الذاتية اليمنى\n",
        "eigenvalues, eigenvectors = np.linalg.eig(A)\n",
        "\n",
        "print(\"Eigenvalues:\")\n",
        "print(eigenvalues)\n",
        "print(\"Eigenvectors:\")\n",
        "print(eigenvectors)"
      ],
      "metadata": {
        "colab": {
          "base_uri": "https://localhost:8080/"
        },
        "id": "jS025h7e1Bmm",
        "outputId": "7ffc9996-db9e-462a-93df-b0f074683483"
      },
      "execution_count": 86,
      "outputs": [
        {
          "output_type": "stream",
          "name": "stdout",
          "text": [
            "Eigenvalues:\n",
            "[0. 5.]\n",
            "Eigenvectors:\n",
            "[[-0.89442719 -0.4472136 ]\n",
            " [ 0.4472136  -0.89442719]]\n"
          ]
        }
      ]
    },
    {
      "cell_type": "code",
      "source": [
        "# Define the coefficient matrix\n",
        "A = np.array([[1, 2, 3],\n",
        "              [4, 5, 6],\n",
        "              [7, 8, 9]])\n",
        "\n",
        "# Define the right-hand side vector\n",
        "# Define the coefficients matrix A\n",
        "A = np.array([[2, 3, -1],\n",
        "              [4, -2, 3],\n",
        "              [1, 1, -2]])\n",
        "\n",
        "# Define the constants vector B\n",
        "B = np.array([14, 8, 10])\n",
        "\n",
        "# Solve the system of equations\n",
        "solution = np.linalg.solve(A, B)\n",
        "print(f'sol {solution}')"
      ],
      "metadata": {
        "colab": {
          "base_uri": "https://localhost:8080/"
        },
        "id": "c4n2qZw94ds4",
        "outputId": "33574f01-364e-479b-a862-6f94e0b94221"
      },
      "execution_count": 102,
      "outputs": [
        {
          "output_type": "stream",
          "name": "stdout",
          "text": [
            "sol [ 4.27586207  1.03448276 -2.34482759]\n"
          ]
        }
      ]
    },
    {
      "cell_type": "code",
      "source": [
        "A**2"
      ],
      "metadata": {
        "colab": {
          "base_uri": "https://localhost:8080/"
        },
        "id": "3ZNOxSyt1aYI",
        "outputId": "40acbe15-a248-4c32-8f91-f1075e7ce411"
      },
      "execution_count": 89,
      "outputs": [
        {
          "output_type": "execute_result",
          "data": {
            "text/plain": [
              "array([[ 1,  4],\n",
              "       [ 4, 16]])"
            ]
          },
          "metadata": {},
          "execution_count": 89
        }
      ]
    },
    {
      "cell_type": "code",
      "source": [],
      "metadata": {
        "id": "U0gYfC113tm9"
      },
      "execution_count": null,
      "outputs": []
    }
  ]
}